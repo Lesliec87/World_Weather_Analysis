{
 "cells": [
  {
   "cell_type": "code",
   "execution_count": 1,
   "id": "cbb0e8c7",
   "metadata": {},
   "outputs": [
    {
     "name": "stdout",
     "output_type": "stream",
     "text": [
      "Collecting citipy\n",
      "  Using cached citipy-0.0.5-py3-none-any.whl\n",
      "Collecting kdtree>=0.12\n",
      "  Using cached kdtree-0.16-py2.py3-none-any.whl (7.7 kB)\n",
      "Installing collected packages: kdtree, citipy\n",
      "Successfully installed citipy-0.0.5 kdtree-0.16\n",
      "Note: you may need to restart the kernel to use updated packages.\n"
     ]
    }
   ],
   "source": [
    "pip install citipy"
   ]
  },
  {
   "cell_type": "code",
   "execution_count": null,
   "id": "4c50a63f",
   "metadata": {},
   "outputs": [],
   "source": []
  }
 ],
 "metadata": {
  "kernelspec": {
   "display_name": "Python 3 (ipykernel)",
   "language": "python",
   "name": "python3"
  },
  "language_info": {
   "codemirror_mode": {
    "name": "ipython",
    "version": 3
   },
   "file_extension": ".py",
   "mimetype": "text/x-python",
   "name": "python",
   "nbconvert_exporter": "python",
   "pygments_lexer": "ipython3",
   "version": "3.9.7"
  }
 },
 "nbformat": 4,
 "nbformat_minor": 5
}
